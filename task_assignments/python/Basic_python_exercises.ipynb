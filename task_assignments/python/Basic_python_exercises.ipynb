{
 "cells": [
  {
   "cell_type": "markdown",
   "metadata": {},
   "source": [
    "## Python Exercises <br>\n",
    "The goal of this assignment is to get you familiarized with basic python functionalities which were discussed in the class. \n",
    "You will have to apply the concepts taught in class today and feel free to go through the class notebook or the other sources mentioned in the notebook to gain more clarity of the concepts. <br>\n",
    "You will have to submit a pdf copy of the notebook in slack and the submission deadline will be announced to you in class. To submit, either print the page in pdf format or you can also use the 'download as' option in the 'file' menu(you may face some errors). <br>\n",
    "\n",
    "__Practise makes a man perfect!!!__ So lets get started with the exercise problems. <br>\n"
   ]
  },
  {
   "cell_type": "markdown",
   "metadata": {},
   "source": [
    "Write a Python program to get the Python version you are using."
   ]
  },
  {
   "cell_type": "code",
   "execution_count": 101,
   "metadata": {},
   "outputs": [],
   "source": [
    "# Its a good practice to keep all your imports in the first code-block!\n",
    "\n",
    "# import <package name>\n",
    "import sys\n",
    "import math \n",
    "import functools"
   ]
  },
  {
   "cell_type": "code",
   "execution_count": 102,
   "metadata": {},
   "outputs": [
    {
     "name": "stdout",
     "output_type": "stream",
     "text": [
      "3.8.5 (default, Sep  4 2020, 07:30:14) \n",
      "[GCC 7.3.0]\n"
     ]
    }
   ],
   "source": [
    "print(sys.version)"
   ]
  },
  {
   "cell_type": "markdown",
   "metadata": {},
   "source": [
    "Write a Python program which accepts the radius of a circle from the user and compute the area. (Use math library)"
   ]
  },
  {
   "cell_type": "code",
   "execution_count": 103,
   "metadata": {},
   "outputs": [
    {
     "name": "stdout",
     "output_type": "stream",
     "text": [
      "Please enter the radius of the circle: 500\n"
     ]
    },
    {
     "data": {
      "text/plain": [
       "785398.1633974483"
      ]
     },
     "execution_count": 103,
     "metadata": {},
     "output_type": "execute_result"
    }
   ],
   "source": [
    "# Taking input from the user and casting it to the float\n",
    "radius  = float(input('Please enter the radius of the circle: '))\n",
    "\n",
    "# Area of circle is calculated as follows\n",
    "area_of_circle = math.pi * (radius**2)\n",
    "\n",
    "# Printing the output\n",
    "area_of_circle"
   ]
  },
  {
   "cell_type": "markdown",
   "metadata": {},
   "source": [
    "Write a Python program to concatenate all elements in a list into a string and return it."
   ]
  },
  {
   "cell_type": "code",
   "execution_count": 104,
   "metadata": {},
   "outputs": [],
   "source": [
    "'''\n",
    "This is the function that will take a list as an input and also a optional param \"delimiter\".\n",
    "It will return a single string which is concatenated with the provided delimiter.\n",
    "\n",
    "'''\n",
    "def concat_elements_of_lists(list_of_elements,delimiter=\"\"):\n",
    "    resultant_string = ''\n",
    "    for elem in list_of_elements:\n",
    "        resultant_string += str(elem)+delimiter\n",
    "    return resultant_string\n",
    "\n",
    "# print(concat_elements_of_lists(['apple','banana'],\" \"))"
   ]
  },
  {
   "cell_type": "code",
   "execution_count": 105,
   "metadata": {},
   "outputs": [
    {
     "name": "stdout",
     "output_type": "stream",
     "text": [
      "bananaapplepearstrawberryorange\n",
      "bananaapplepearstrawberryorange\n"
     ]
    }
   ],
   "source": [
    "# Here, we are initializing a random list of fruits for testing\n",
    "list_of_fruits = ['banana','apple','pear','strawberry','orange']\n",
    "\n",
    "# Testing our function\n",
    "print(concat_elements_of_lists(list_of_fruits,\"\"))\n",
    "\n",
    "# similarly, using python in-built function, we can do it one line as follows:\n",
    "print(\"\".join(list_of_fruits))"
   ]
  },
  {
   "cell_type": "markdown",
   "metadata": {},
   "source": [
    "Write a Python program to calculate the area of a trapezoid. <br>\n",
    "Test Data <br>\n",
    "Height : 5<br>\n",
    "Base, first value : 5<br>\n",
    "Base, second value : 6<br>\n",
    "Expected Output: Area is : 27.5<br>"
   ]
  },
  {
   "cell_type": "code",
   "execution_count": 106,
   "metadata": {},
   "outputs": [],
   "source": [
    "# We will be defining a function to calculate area of trapezoid\n",
    "\n",
    "def calculate_area_of_trapezoid(height,first_base,second_base):\n",
    "    return (((first_base + second_base)/2)* height)"
   ]
  },
  {
   "cell_type": "code",
   "execution_count": 107,
   "metadata": {},
   "outputs": [
    {
     "name": "stdout",
     "output_type": "stream",
     "text": [
      "Area is :  27.5\n"
     ]
    }
   ],
   "source": [
    "# Testing our trapezium's area calculator\n",
    "\n",
    "area_of_trapezoid = calculate_area_of_trapezoid(5,5,6)\n",
    "print('Area is : ',area_of_trapezoid)"
   ]
  },
  {
   "cell_type": "markdown",
   "metadata": {},
   "source": [
    "Write a Python program to remove and print every third number from a list of 50 natural numbers until the list cannot be reduced any further."
   ]
  },
  {
   "cell_type": "code",
   "execution_count": 108,
   "metadata": {},
   "outputs": [
    {
     "name": "stdout",
     "output_type": "stream",
     "text": [
      "[3, 7, 11, 15, 19, 23, 27, 31, 35, 39, 43, 47, 1, 8, 14, 21, 28, 34, 41, 48, 5, 16, 25, 36, 45, 6, 20, 33, 49, 13, 32, 2, 26, 50, 29, 10, 44, 38, 37, 42, 12, 46, 4, 30, 18, 22, 9, 40, 17, 24]\n"
     ]
    }
   ],
   "source": [
    "# Natural numbers start from 1 and go-on till infinity\n",
    "\n",
    "# Generating numbers from 1 to 50\n",
    "natural_nums = list(num for num in range(1,51))\n",
    "\n",
    "# Generating 50 multiples of 3\n",
    "multiple_of_three = list((number*3-1) for number in range(1,51))\n",
    "\n",
    "# Popping and printing every third element from natural_nums list with list-comprehension\n",
    "print([natural_nums.pop(index%len(natural_nums)) for index in multiple_of_three])"
   ]
  },
  {
   "cell_type": "markdown",
   "metadata": {},
   "source": [
    "Write a Python program to print the following text, convert the string to a list and print all the words and their frequencies <br>\n",
    "__\"Probability is the measure of the likelihood that an event will occur. Probability is quantified as a number between 0 and 1, where, loosely speaking, 0 indicates impossibility and 1 indicates certainty. The higher the probability of an event, the more likely it is that the event will occur.\"__"
   ]
  },
  {
   "cell_type": "code",
   "execution_count": 109,
   "metadata": {},
   "outputs": [
    {
     "data": {
      "text/plain": [
       "'hello'"
      ]
     },
     "execution_count": 109,
     "metadata": {},
     "output_type": "execute_result"
    }
   ],
   "source": [
    "# Testing out the logic to filter out non alpha_numeric chars\n",
    "(\"\".join(filter(lambda x:x.isalnum(),\"Hello.\".strip()))).lower()\n",
    "\n",
    "# Works fine till now!"
   ]
  },
  {
   "cell_type": "code",
   "execution_count": 110,
   "metadata": {},
   "outputs": [],
   "source": [
    "\"\"\"\n",
    "This function will convert the given string into lower case alpha numeric string.\n",
    "This helps us acquire consistency amongst all the words in our string.\n",
    "\"\"\"\n",
    "\n",
    "def convert_to_only_lower_alpha_num(string):\n",
    "    \n",
    "    # If the string is already alpha numeric, just convert into lower case and strip unnecessary spaces!    \n",
    "    if string.isalnum():\n",
    "        return string.strip().lower()\n",
    "    \n",
    "    else:\n",
    "        string = \"\".join(filter(lambda x:x.isalnum(),string.strip())).lower()\n",
    "        return str(string)"
   ]
  },
  {
   "cell_type": "code",
   "execution_count": 111,
   "metadata": {},
   "outputs": [
    {
     "name": "stdout",
     "output_type": "stream",
     "text": [
      "probability\n"
     ]
    }
   ],
   "source": [
    "# Testing our function!\n",
    "print(convert_to_only_lower_alpha_num(\"'Probability.\"))\n",
    "\n",
    "# Works good!"
   ]
  },
  {
   "cell_type": "code",
   "execution_count": 112,
   "metadata": {},
   "outputs": [
    {
     "data": {
      "text/plain": [
       "'Testing out dictionaries\\ntest_dict = {\\n  \"brand\": \"Ford\",\\n  \"model\": \"Mustang\",\\n  \"year\": 1964\\n}\\nyear = \\'year1\\'\\nif year in test_dict:\\n    print(\\'Exists\\')\\n    test_dict[year]+=1\\n    print(\\'\\n\\',test_dict[\\'year\\'])\\nelse:\\n    print(\\'Please add the key!\\')\\n    test_dict[year]=1\\n    print(test_dict)'"
      ]
     },
     "execution_count": 112,
     "metadata": {},
     "output_type": "execute_result"
    }
   ],
   "source": [
    "\"\"\"Testing out dictionaries\n",
    "test_dict = {\n",
    "  \"brand\": \"Ford\",\n",
    "  \"model\": \"Mustang\",\n",
    "  \"year\": 1964\n",
    "}\n",
    "year = 'year1'\n",
    "if year in test_dict:\n",
    "    print('Exists')\n",
    "    test_dict[year]+=1\n",
    "    print('\\n',test_dict['year'])\n",
    "else:\n",
    "    print('Please add the key!')\n",
    "    test_dict[year]=1\n",
    "    print(test_dict)\"\"\""
   ]
  },
  {
   "cell_type": "code",
   "execution_count": 113,
   "metadata": {},
   "outputs": [
    {
     "name": "stdout",
     "output_type": "stream",
     "text": [
      "{'probability': 3, 'is': 3, 'the': 6, 'measure': 1, 'of': 2, 'likelihood': 1, 'that': 2, 'an': 2, 'event': 3, 'will': 2, 'occur': 2, 'quantified': 1, 'as': 1, 'a': 1, 'number': 1, 'between': 1, '0': 2, 'and': 2, '1': 2, 'where': 1, 'loosely': 1, 'speaking': 1, 'indicates': 2, 'impossibility': 1, 'certainty': 1, 'higher': 1, 'more': 1, 'likely': 1, 'it': 1}\n"
     ]
    }
   ],
   "source": [
    "# Taking the given string in the problem statement.\n",
    "given_string = \"Probability is the measure of the likelihood that an event will occur. Probability is quantified as a number between 0 and 1, where, loosely speaking, 0 indicates impossibility and 1 indicates certainty. The higher the probability of an event, the more likely it is that the event will occur.\"\n",
    "\n",
    "# Splitting it wherever we find the spaces\n",
    "splitted_string = given_string.split(\" \")\n",
    "\n",
    "# Converting all the strings in the list into lower case alpha_numeric string\n",
    "updated_splitted_string=list(map(convert_to_only_lower_alpha_num,splitted_string))\n",
    "\n",
    "# Checkpoint -> Testing out if all the logic till this point works out as desired.\n",
    "# print(updated_splitted_string)\n",
    "\n",
    "# Initializing an empty dictionary to hold the word as keys as and the word_count as its corresponding value.\n",
    "frequencies = dict()\n",
    "\n",
    "for string in updated_splitted_string:\n",
    "    if string in frequencies:\n",
    "        frequencies[string]+=1\n",
    "    else:\n",
    "        frequencies[string]=1\n",
    "\n",
    "print(frequencies)"
   ]
  },
  {
   "cell_type": "markdown",
   "metadata": {},
   "source": [
    "Write a Python program to reverse the digits of a given number and add it to the original, If the sum is not a palindrome repeat this procedure. <br>\n",
    "Note: A palindrome is a word, number, or other sequence of characters which reads the same backward as forward, such as madam or racecar."
   ]
  },
  {
   "cell_type": "code",
   "execution_count": 114,
   "metadata": {},
   "outputs": [],
   "source": [
    "# Commenting original logic\n",
    "# reversed_string = reversed(given_string)\n",
    "# return given_string==reversed_string\n",
    "\n",
    "def is_palindrome(given_string):\n",
    "    # Ensuring the given_string is actually a string\n",
    "    given_string = str(given_string)    \n",
    "    \n",
    "    # Using shorthand to reverse a string     \n",
    "    return given_string==given_string[::-1]"
   ]
  },
  {
   "cell_type": "code",
   "execution_count": 115,
   "metadata": {},
   "outputs": [
    {
     "name": "stdout",
     "output_type": "stream",
     "text": [
      "True\n",
      "True\n",
      "False\n"
     ]
    }
   ],
   "source": [
    "# Testing the function is_palindrome()\n",
    "\n",
    "# Case 1: is_palindrome(123321) -> should return True\n",
    "print(is_palindrome(123321))\n",
    "\n",
    "# Case 2: is_palindrome(12321) -> should return True\n",
    "print(is_palindrome(12321))\n",
    "\n",
    "# Case 3: is_palindrome(123121) -> should return False\n",
    "print(is_palindrome(123121))"
   ]
  },
  {
   "cell_type": "code",
   "execution_count": 116,
   "metadata": {},
   "outputs": [],
   "source": [
    "def convert_digits_to_palindromic_string(number):\n",
    "    reversed_number = int(str(number)[::-1])\n",
    "    sum_of_nums =number+reversed_number\n",
    "    if is_palindrome(sum_of_nums):\n",
    "        print(\"Palindrome found!\\nNumber is : \", sum_of_nums)\n",
    "    else:\n",
    "        convert_digits_to_palindromic_string(sum_of_nums)\n",
    "    "
   ]
  },
  {
   "cell_type": "code",
   "execution_count": 117,
   "metadata": {},
   "outputs": [
    {
     "name": "stdout",
     "output_type": "stream",
     "text": [
      "Palindrome found!\n",
      "Number is :  1221\n"
     ]
    }
   ],
   "source": [
    "# Running our function\n",
    "convert_digits_to_palindromic_string(456)"
   ]
  },
  {
   "cell_type": "markdown",
   "metadata": {},
   "source": [
    "Write a Python program to generate a list of squares of numbers between 1 and 20 (both nos included) and print ONLY the first and last 5 elements."
   ]
  },
  {
   "cell_type": "code",
   "execution_count": 118,
   "metadata": {
    "scrolled": false
   },
   "outputs": [
    {
     "name": "stdout",
     "output_type": "stream",
     "text": [
      "\n",
      "\n",
      "First Five Elements are :  [1, 4, 9, 16, 25]\n",
      "\n",
      "\n",
      "Last Five Elements are :  [256, 289, 324, 361, 400]\n"
     ]
    }
   ],
   "source": [
    "# Generating the square of numbers from 1 to 20\n",
    "list_of_squares = [elem**2 for elem in range(1,21)]\n",
    "\n",
    "# Checking if this is properly generated:\n",
    "# print(\"List of Square of numbers from 1 to 20 : \", list_of_squares)\n",
    "\n",
    "# Printing only the first five elements of the new list\n",
    "print(\"\\n\\nFirst Five Elements are : \",list_of_squares[:5])\n",
    "\n",
    "# Printing only the last five elements of the new list\n",
    "print(\"\\n\\nLast Five Elements are : \",list_of_squares[-5:])"
   ]
  },
  {
   "cell_type": "markdown",
   "metadata": {},
   "source": [
    "Write a Python program to split the following sentence based on white space and then extract the first letter of each split string. <br>\n",
    "__\"Jack of all trades but master of none\"__"
   ]
  },
  {
   "cell_type": "code",
   "execution_count": 119,
   "metadata": {},
   "outputs": [
    {
     "name": "stdout",
     "output_type": "stream",
     "text": [
      "Joatbmon\n",
      "Joatbmon\n"
     ]
    }
   ],
   "source": [
    "# Taking the given string\n",
    "given_string = \"Jack of all trades but master of none\"\n",
    "\n",
    "# Splitting the string into a list of strings based on spaces\n",
    "splitted_string = given_string.split(\" \")\n",
    "\n",
    "# Initializing an empty list\n",
    "list_of_first_chars = []\n",
    "\n",
    "# Adding all the first chars to our new list\n",
    "for elem in splitted_string:\n",
    "    list_of_first_chars.append(elem[0])\n",
    "    \n",
    "# Printing the final list\n",
    "print ( \"\".join(list_of_first_chars))\n",
    "\n",
    "# Or a shorter way is a one-liner\n",
    "print(\"\".join([elem[0] for elem in splitted_string]))"
   ]
  },
  {
   "cell_type": "markdown",
   "metadata": {},
   "source": [
    "Write a Python program to remove the duplicate elements in the list but preserve the order. <br>\n",
    "Eg: [2,3,5,4,2,3,8,4] should give an output [2,3,5,4,8]"
   ]
  },
  {
   "cell_type": "code",
   "execution_count": 120,
   "metadata": {},
   "outputs": [
    {
     "name": "stdout",
     "output_type": "stream",
     "text": [
      "[2, 3, 5, 4, 8, 20, 12312, 12313]\n"
     ]
    }
   ],
   "source": [
    "original_list = [2,3,5,4,2,3,8,4,2,20,12312,12313,12312,2,2]\n",
    "\n",
    "# Original Logic - Start\n",
    "# list_with_removed_duplicate_elems = []\n",
    "\n",
    "# for elem in original_list:\n",
    "#     if elem not in list_with_removed_duplicate_elems:\n",
    "#         list_with_removed_duplicate_elems.append(elem)\n",
    "        \n",
    "# Original Logic - End\n",
    "\n",
    "# With List Comprehension\n",
    "list_comp = []\n",
    "[list_comp.append(num) for num in original_list if num not in list_comp]\n",
    "        \n",
    "\n",
    "print(list_comp)"
   ]
  },
  {
   "cell_type": "markdown",
   "metadata": {},
   "source": [
    "Write a Python program to solve the Fibonacci sequence using recursion. "
   ]
  },
  {
   "cell_type": "code",
   "execution_count": 121,
   "metadata": {},
   "outputs": [
    {
     "name": "stdout",
     "output_type": "stream",
     "text": [
      "[0, 1, 1, 2, 3, 5, 8, 13, 21, 34, 55, 89]\n"
     ]
    }
   ],
   "source": [
    "# Initialising the seed values n1=0 and n2=1\n",
    "n1 = 0\n",
    "n2 = 1\n",
    "\n",
    "# Creating a list with our seed points as the first two elements in it.\n",
    "fibonacci_series=[0,1]\n",
    "\n",
    "\"\"\"\n",
    "Generating the fibonacci series using the recursion.\n",
    "num1 is the first number.\n",
    "num2 is the second number.\n",
    "count is the number of numbers we want to generate in fibonacci series.\n",
    "\n",
    "\n",
    "We add the num1 and num2 and the sum is the next number in the series.\n",
    "We print the number for each addition cycle\n",
    "After each addition operation we decrement the count, and once the count reaches 0, we stop printing the fibonacci series\n",
    "\n",
    "\"\"\"\n",
    "def fibonacci(num1,num2,count):\n",
    "    if count==1:\n",
    "        fibonacci_series.append(num1+num2)\n",
    "    else:\n",
    "        count-=1\n",
    "        sum = num1+num2\n",
    "        num1=num2\n",
    "        num2 = sum\n",
    "        fibonacci_series.append(sum)\n",
    "        fibonacci(num1,num2,count)\n",
    "\n",
    "# Calling our fibonacci function with the seed values n1 and n2 and the count as 10\n",
    "fibonacci(n1,n2,10)\n",
    "\n",
    "# Printing the generated fibonacci_serieabss\n",
    "print(fibonacci_series)"
   ]
  },
  {
   "cell_type": "markdown",
   "metadata": {},
   "source": [
    "Given an array of integers of size n, calculate the maximum sum of k consecutive elements in the array.\n",
    "* Input: [100, 200, 300, 400]; k = 2\n",
    "* Output: 700"
   ]
  },
  {
   "cell_type": "code",
   "execution_count": 122,
   "metadata": {},
   "outputs": [],
   "source": [
    "\"\"\"\n",
    "This method returns the maximum sum of k consecutive elements in the array.\n",
    "Firstly, we arrange the list elements in descending order.\n",
    "Then, we sum up the k consecutive number, which ensure that it is the maximum sum we can get.\n",
    "\"\"\"\n",
    "def max_sum_of_consecutive_elems(given_list,k):\n",
    "    # Sorting the list in descending order\n",
    "    given_list.sort(reverse=True)\n",
    "    \n",
    "    # Sum up the first k consecutive numbers\n",
    "    return sum(given_list[:k])"
   ]
  },
  {
   "cell_type": "code",
   "execution_count": 123,
   "metadata": {},
   "outputs": [
    {
     "name": "stdout",
     "output_type": "stream",
     "text": [
      "700\n"
     ]
    }
   ],
   "source": [
    "my_input_list = [100,200,300,400] # List to test our function\n",
    "my_input_count=2 # k to select consecutive elements\n",
    "\n",
    "# calling and testing our function\n",
    "print(max_sum_of_consecutive_elems(my_input_list,my_input_count))"
   ]
  },
  {
   "cell_type": "markdown",
   "metadata": {},
   "source": [
    "Write a Python program to print a dictionary with keys are the names of the numbers between one and five (both included) and values are the cubes of the numbers. <br>\n",
    "Note: You should use a list to create the keys and create the dictionary using list comprehension."
   ]
  },
  {
   "cell_type": "code",
   "execution_count": 124,
   "metadata": {},
   "outputs": [
    {
     "name": "stdout",
     "output_type": "stream",
     "text": [
      "{1: 1, 2: 8, 3: 27, 4: 64, 5: 125}\n"
     ]
    }
   ],
   "source": [
    "# Step1 : Generate numbers 1 to 5 using list comprehension\n",
    "number_list = [element for element in range(1,6)]\n",
    "\n",
    "# To test if the numbers are generated properly\n",
    "# print(number_list)\n",
    "\n",
    "# Step2 : Creation of dictionary with comprehension where ->\n",
    "#         'key' is the number from above generated list,\n",
    "#         'value' would be the cube of the key\n",
    "\n",
    "dict_with_nums_and_cubes = {key:key**3 for key in number_list}\n",
    "\n",
    "# Checking if the above dict comprehension worked properly\n",
    "print(dict_with_nums_and_cubes)"
   ]
  },
  {
   "cell_type": "markdown",
   "metadata": {},
   "source": [
    "Write a program which accepts a sequence of comma separated 4 digit binary numbers as its input and then check whether they are divisible by 5 or not. The numbers that are divisible by 5 are to be printed in a comma separated sequence. <br>\n",
    "Example:<br>\n",
    "0110,1001,0100,1010<br>\n",
    "Then the output should be:<br>\n",
    "1010\n",
    "Hint: Look up how to convert from integer to binary/hex/oct in python"
   ]
  },
  {
   "cell_type": "code",
   "execution_count": 125,
   "metadata": {},
   "outputs": [
    {
     "name": "stdout",
     "output_type": "stream",
     "text": [
      "6\n"
     ]
    }
   ],
   "source": [
    "# Testing the conversion of binary string into an integer\n",
    "\n",
    "my_binary = \"0110\"\n",
    "print(int(my_binary,base=2))"
   ]
  },
  {
   "cell_type": "code",
   "execution_count": 126,
   "metadata": {},
   "outputs": [
    {
     "name": "stdout",
     "output_type": "stream",
     "text": [
      "Please enter 4-digit comma-seperated Binary numbers : 0110,1001,0100,1010,1010,0101\n",
      "1010,1010,0101\n"
     ]
    }
   ],
   "source": [
    "# Sample Input-> 0110,1001,0100,1010,1010,0101\n",
    "\n",
    "# Taking the binary numbers from standard input\n",
    "input_string = input(\"Please enter 4-digit comma-seperated Binary numbers : \")\n",
    "\n",
    "# splitting the numbers based on comma\n",
    "list_binary_nums_in_string = input_string.split(',')\n",
    "\n",
    "# print(list_binary_nums_in_string)\n",
    "\n",
    "# List comprehension\n",
    "final_list_with_binary_nums_divisible_by_5 = [binary for binary in list_binary_nums_in_string if int(binary,base=2)%5==0]\n",
    "\n",
    "# Final output ->\n",
    "print(\",\".join(final_list_with_binary_nums_divisible_by_5))\n"
   ]
  },
  {
   "cell_type": "markdown",
   "metadata": {},
   "source": [
    "Write a python program to check whether a given number is an Armstrong number using a function. <br>\n",
    "Note : An Armstrong number is one whose sum of cubes of digits is equal to the number itself. Eg: 371"
   ]
  },
  {
   "cell_type": "code",
   "execution_count": 127,
   "metadata": {},
   "outputs": [
    {
     "data": {
      "text/plain": [
       "'# This block tests out the logic with 2 methods!\\n\\n# We take a number and convert it to a string!\\nnumber_string = str(371)\\n\\n# Method 1 - without list comprehension\\nsum = 0\\nfor char in number_string:\\n    sum+=(int(char)**3)\\n\\n# Method 2 - with list comprehension\\nprint(functools.reduce(lambda x,y:x+y,[(int(char)**3) for char in str(number_string)]))'"
      ]
     },
     "execution_count": 127,
     "metadata": {},
     "output_type": "execute_result"
    }
   ],
   "source": [
    "\"\"\"# This block tests out the logic with 2 methods!\n",
    "\n",
    "# We take a number and convert it to a string!\n",
    "number_string = str(371)\n",
    "\n",
    "# Method 1 - without list comprehension\n",
    "sum = 0\n",
    "for char in number_string:\n",
    "    sum+=(int(char)**3)\n",
    "\n",
    "# Method 2 - with list comprehension\n",
    "print(functools.reduce(lambda x,y:x+y,[(int(char)**3) for char in str(number_string)]))\"\"\""
   ]
  },
  {
   "cell_type": "code",
   "execution_count": 128,
   "metadata": {},
   "outputs": [],
   "source": [
    "\"\"\"\n",
    "This function checks whether a number is a Armstrong number or not.\n",
    "We take a number, and sum up the cube of each digits.\n",
    "If the sum of cube of digits is equal to the given number, then it is considered as a Armstrong number.\n",
    "\"\"\"\n",
    "def check_if_is_armstrong_number(given_number):\n",
    "    # Converting to string. This would allow us to use list comprehension\n",
    "    number_string=str(given_number)\n",
    "    sum_of_cubed_digits = functools.reduce(lambda x,y:x+y,[(int(char)**3) for char in str(number_string)])\n",
    "    return sum_of_cubed_digits == given_number"
   ]
  },
  {
   "cell_type": "code",
   "execution_count": 129,
   "metadata": {},
   "outputs": [
    {
     "name": "stdout",
     "output_type": "stream",
     "text": [
      "371  :  True\n",
      "173  :  False\n"
     ]
    }
   ],
   "source": [
    "# Testing the function\n",
    "print(371,\" : \",check_if_is_armstrong_number(371))\n",
    "print(173,\" : \",check_if_is_armstrong_number(173))"
   ]
  },
  {
   "cell_type": "markdown",
   "metadata": {},
   "source": [
    "Flatten a nested sequence into a single list of values. Note: the logic should work for any number of nested\n",
    "sequences.\n",
    "* Input: [1, 2, [3, 4, [5, 6], 7], 8]\n",
    "* Output: [1, 2, 3, 4, 5, 6, 7, 8]"
   ]
  },
  {
   "cell_type": "code",
   "execution_count": 130,
   "metadata": {},
   "outputs": [],
   "source": [
    "# This method will take a nested_list as an input and create a flattened_list in a recursive manner.\n",
    "def nested_list_flattener(nested_list,flattened_list=[]):\n",
    "    for item in nested_list:\n",
    "        if type(item)==list:\n",
    "            nested_list_flattener(item,flattened_list)\n",
    "        else:\n",
    "            flattened_list.append(item)\n",
    "    return flattened_list"
   ]
  },
  {
   "cell_type": "code",
   "execution_count": 131,
   "metadata": {},
   "outputs": [
    {
     "name": "stdout",
     "output_type": "stream",
     "text": [
      "[1, 2, 3, 4, 5, 6, 7, 8, 9, 10, 11, 12, 13, 14, 15, 16, 17, 18]\n"
     ]
    }
   ],
   "source": [
    "# Taking a very complex nested-list\n",
    "nested_list = [1, 2, [3, 4, [5, 6], 7], [8],[9,[10,[11,[12,[13,[14,15,16,17,[18]]]]]]]]\n",
    "\n",
    "# Displaying the final output of the flattened_list\n",
    "print(nested_list_flattener(nested_list))"
   ]
  },
  {
   "cell_type": "markdown",
   "metadata": {},
   "source": [
    "Write a python program to find if a number is Automorphic or not. <br>\n",
    "Note: A number is Automorphic if and only if its square ends with the same digit as itself. Eg: The number 25 has its square 625 ending with the same last digit."
   ]
  },
  {
   "cell_type": "code",
   "execution_count": 132,
   "metadata": {},
   "outputs": [],
   "source": [
    "# A number is Automorphic if and only if its square ends with the same digit as itself.\n",
    "# Eg: The number 25 has its square 625 ending with the same last digit.\n",
    "def is_number_automorphic(number):\n",
    "    return (number%10) == ((number**2)%10)"
   ]
  },
  {
   "cell_type": "code",
   "execution_count": 133,
   "metadata": {},
   "outputs": [
    {
     "name": "stdout",
     "output_type": "stream",
     "text": [
      "True\n",
      "False\n"
     ]
    }
   ],
   "source": [
    "print(is_number_automorphic(6))\n",
    "# Six is indeed an automorphic number\n",
    "\n",
    "# while 4 is not an automorphic number\n",
    "print(is_number_automorphic(4))"
   ]
  },
  {
   "cell_type": "markdown",
   "metadata": {},
   "source": [
    "Write a program to sort the dictionary based on value in reverse order.\n",
    "data = {\"maths\":50, \"physics\":90, \"chemistry:\"80, \"english\":70, \"history\":85}\n",
    "Hint: Use itemgetter"
   ]
  },
  {
   "cell_type": "code",
   "execution_count": 134,
   "metadata": {},
   "outputs": [
    {
     "name": "stdout",
     "output_type": "stream",
     "text": [
      "{'maths': 50, 'english': 70, 'chemistry': 80, 'history': 85, 'physics': 90}\n"
     ]
    }
   ],
   "source": [
    "data = {\"maths\":50, \"physics\":90, \"chemistry\":80, \"english\":70, \"history\":85}\n",
    "\n",
    "new_data = {key:value for key,value in sorted(data.items(),key=lambda item:item[1]) }\n",
    "print(new_data)"
   ]
  },
  {
   "cell_type": "markdown",
   "metadata": {},
   "source": [
    "Implement a switch case in python to display the following chocolate manufacturing company names when their corresponding chocolates are selected based on their capitals.\n",
    "kitkat - nestle <br>\n",
    "dairymilk - cadbury <br>\n",
    "kisses - hershley <br>\n",
    "raffaello - ferroro <br>\n",
    "kinderjoy - kinder <br>\n",
    "Hint : Switch case in python are implemented using dictionaries"
   ]
  },
  {
   "cell_type": "code",
   "execution_count": 135,
   "metadata": {},
   "outputs": [],
   "source": [
    "def my_switch_statement(switch_key): \n",
    "    switch_stmt_from_dict={\n",
    "        \"kitkat\"    : \"nestle\",\n",
    "        \"dairymilk\" : \"cadbury\", \n",
    "        \"kisses\"    : \"hershley\" ,\n",
    "        \"raffaello\" : \"ferroro\", \n",
    "        \"kinderjoy\" : \"kinder\" \n",
    "    }\n",
    "    \n",
    "    print(switch_stmt_from_dict.get(switch_key,\"Please provide a valid selection!\"))\n"
   ]
  },
  {
   "cell_type": "code",
   "execution_count": 136,
   "metadata": {},
   "outputs": [
    {
     "name": "stdout",
     "output_type": "stream",
     "text": [
      "kinder\n"
     ]
    }
   ],
   "source": [
    "my_switch_statement(\"kinderjoy\")"
   ]
  },
  {
   "cell_type": "markdown",
   "metadata": {},
   "source": [
    "Create a matrix $A = \\begin{bmatrix}1 & 2 & 3 \\\\4 & 5 & 6 \\end{bmatrix}$ and find its transpose using <br>\n",
    "1. List comprehension\n",
    "2. Zip"
   ]
  },
  {
   "cell_type": "code",
   "execution_count": 137,
   "metadata": {},
   "outputs": [
    {
     "name": "stdout",
     "output_type": "stream",
     "text": [
      "1. Using List-comprehension :  [[1, 4], [2, 5], [3, 6]]\n",
      "2. Using Zip :  [(1, 4), (2, 5), (3, 6)]\n"
     ]
    }
   ],
   "source": [
    "matrix = [[1,2,3],[4,5,6]]\n",
    "\n",
    "# 1. Using List-comprehension\n",
    "transposed_matrix = [[matrix[0][index],matrix[1][index]] for index in range(len(matrix[0]))]\n",
    "print(\"1. Using List-comprehension : \", transposed_matrix)\n",
    "\n",
    "# 2. Using Zip\n",
    "print(\"2. Using Zip : \", list(zip(*matrix)))"
   ]
  },
  {
   "cell_type": "markdown",
   "metadata": {},
   "source": [
    "Write a program to find the largest N items in a list?\n",
    "* Input: [1, 8, 2, 23, 7, -4, 18, 23, 42, 37, 2] and 3 (N)\n",
    "* Output: [42, 37, 23]"
   ]
  },
  {
   "cell_type": "code",
   "execution_count": 138,
   "metadata": {},
   "outputs": [
    {
     "name": "stdout",
     "output_type": "stream",
     "text": [
      "[42, 37, 23]\n"
     ]
    }
   ],
   "source": [
    "def remove_n_largest_elems_from_list(target_list,count_of_elems):\n",
    "    new_list=[]\n",
    "    for count in range(count_of_elems):\n",
    "        new_list.append(max(target_list))\n",
    "        target_list.remove(max(target_list))\n",
    "    return new_list\n",
    "        \n",
    "input_list=[1, 8, 2, 23, 7, -4, 18, 23, 42, 37, 2]\n",
    "input_count=3\n",
    "print(remove_n_largest_elems_from_list(input_list,input_count))"
   ]
  },
  {
   "cell_type": "markdown",
   "metadata": {},
   "source": [
    "Write a sigmoid function which takes a matrix (x) as input and outputs a matrix. The formula for sigmoid\n",
    "function is $\\frac{1}{1+e^{-x}}$<br>\n",
    "$X = \\begin{bmatrix}10 & 20 & 30 \\\\4 & 5 & 6 \\end{bmatrix}$ <br>\n",
    "Note: Please DO NOT use numpy."
   ]
  },
  {
   "cell_type": "code",
   "execution_count": 139,
   "metadata": {},
   "outputs": [],
   "source": [
    "def my_sigmoid_function(number):\n",
    "    return (1.0/(1+(math.e**(-1*number))))"
   ]
  },
  {
   "cell_type": "code",
   "execution_count": 140,
   "metadata": {},
   "outputs": [],
   "source": [
    "def apply_sigmoid_funtion_to_matrix(given_matrix):\n",
    "    return [list(map(my_sigmoid_function,row)) for row in given_matrix]        "
   ]
  },
  {
   "cell_type": "code",
   "execution_count": 141,
   "metadata": {},
   "outputs": [
    {
     "name": "stdout",
     "output_type": "stream",
     "text": [
      "[[0.9999546021312976, 0.9999999979388463, 0.9999999999999065], [0.9820137900379085, 0.9933071490757153, 0.9975273768433653]]\n"
     ]
    }
   ],
   "source": [
    "test_matrix=[[10,20,30],[4,5,6]]\n",
    "print(apply_sigmoid_funtion_to_matrix(test_matrix))"
   ]
  },
  {
   "cell_type": "markdown",
   "metadata": {},
   "source": [
    "Simulate a fast-food ordering scenario by defining four classes <br>\n",
    "* Lunch: A container and controller class\n",
    "* Customer: The actor who buys food\n",
    "* Employee: The actor from whom a customer orders\n",
    "* Food: What the customer buys <br> <br>\n",
    "The order simulation should work as follows<br>\n",
    "\n",
    "1.The Lunch class’s constructor should make and embed an instance of Customer and an instance of\n",
    "Employee, and it should export a method called order. When called, this order method should ask the\n",
    "Customer to place an order by calling its place_order method. The Customer’s place_order method\n",
    "should in turn ask the Employee object for a new Food object by calling Employee’s take_order method. <br>\n",
    "2.Food objects should store a food name string (e.g., “dosa”), passed down from Lunch.order, to\n",
    "Customer.place_order, to Employee.take_order, and finally to Food’s constructor. The top-level Lunch\n",
    "class should also export a method called result, which asks the customer to print the name of the food\n",
    "it received from the Employee via the order (this can be used to test your simulation)."
   ]
  },
  {
   "cell_type": "code",
   "execution_count": 142,
   "metadata": {},
   "outputs": [],
   "source": [
    "class Food():\n",
    "    def __init__(self,food_name):\n",
    "        self.food_name=food_name"
   ]
  },
  {
   "cell_type": "code",
   "execution_count": 143,
   "metadata": {},
   "outputs": [],
   "source": [
    "class Employee():\n",
    "    def __init__(self):\n",
    "        self.food = None\n",
    "        \n",
    "    def take_order(self,food_name):\n",
    "        self.food = Food(food_name)\n",
    "        \n",
    "    def set_name(self,emp_name):\n",
    "        self.name=emp_name\n",
    "        "
   ]
  },
  {
   "cell_type": "code",
   "execution_count": 144,
   "metadata": {},
   "outputs": [],
   "source": [
    "class Customer():\n",
    "        \n",
    "    def place_order(self,employee,food_name):\n",
    "        self.food_name=food_name\n",
    "        employee.take_order(self.food_name)\n",
    "        \n",
    "    def print_food_received(self,employee):\n",
    "        print(f\"{self.food_name} delivered by {employee.name}\")"
   ]
  },
  {
   "cell_type": "code",
   "execution_count": 145,
   "metadata": {},
   "outputs": [],
   "source": [
    "class Lunch():\n",
    "    def __init__(self):\n",
    "        self.customer = Customer()\n",
    "        self.employee = Employee()\n",
    "    \n",
    "    def order(self,food_name,employee_name):\n",
    "        self.employee.set_name(employee_name)\n",
    "        self.customer.place_order(self.employee,food_name)\n",
    "    \n",
    "    def result(self):\n",
    "        self.customer.print_food_received(self.employee)"
   ]
  },
  {
   "cell_type": "code",
   "execution_count": 146,
   "metadata": {},
   "outputs": [],
   "source": [
    "my_lunch=Lunch()"
   ]
  },
  {
   "cell_type": "code",
   "execution_count": 147,
   "metadata": {},
   "outputs": [],
   "source": [
    "my_lunch.order(\"Dosa\",\"Mihir\")"
   ]
  },
  {
   "cell_type": "code",
   "execution_count": 148,
   "metadata": {},
   "outputs": [
    {
     "name": "stdout",
     "output_type": "stream",
     "text": [
      "Dosa delivered by Mihir\n"
     ]
    }
   ],
   "source": [
    "my_lunch.result()"
   ]
  },
  {
   "cell_type": "code",
   "execution_count": 149,
   "metadata": {},
   "outputs": [],
   "source": [
    "my_lunch.order(\"Cake\",\"Mihir\")"
   ]
  },
  {
   "cell_type": "code",
   "execution_count": 150,
   "metadata": {},
   "outputs": [
    {
     "name": "stdout",
     "output_type": "stream",
     "text": [
      "Cake delivered by Mihir\n"
     ]
    }
   ],
   "source": [
    "my_lunch.result()"
   ]
  }
 ],
 "metadata": {
  "kernelspec": {
   "display_name": "Python 3",
   "language": "python",
   "name": "python3"
  },
  "language_info": {
   "codemirror_mode": {
    "name": "ipython",
    "version": 3
   },
   "file_extension": ".py",
   "mimetype": "text/x-python",
   "name": "python",
   "nbconvert_exporter": "python",
   "pygments_lexer": "ipython3",
   "version": "3.8.5"
  }
 },
 "nbformat": 4,
 "nbformat_minor": 2
}
